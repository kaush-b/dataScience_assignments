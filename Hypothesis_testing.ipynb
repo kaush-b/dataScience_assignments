{
 "cells": [
  {
   "cell_type": "code",
   "execution_count": 1,
   "id": "676399ca-1835-4e77-8191-388f34ce5149",
   "metadata": {},
   "outputs": [
    {
     "name": "stdout",
     "output_type": "stream",
     "text": [
      "T-value is: 2.0\n"
     ]
    }
   ],
   "source": [
    "\"\"\"\n",
    "1)\tHypothesis statement:\n",
    "Null hypothesis (H0): no increase in weekly operating cost and the weekly operating cost model is still accurate.\n",
    "H0: µw = 1000+5(600) = 4000$\n",
    "\n",
    "Alternative hypothesis(H1): weekly operating costs have increased and the cost model is not accurate.\n",
    "H1: x = 4050$\n",
    "\"\"\"\n",
    "\n",
    "# 2) Test-statistic(t): we select t-test as sample standard deviation is given and sample size is <30.\n",
    "import numpy as np\n",
    "x=4050\n",
    "u=4000\n",
    "S=5*25\n",
    "n=25\n",
    "T = (x-u)/(S/np.sqrt(n))\n",
    "print(\"T-value is:\", T)\n"
   ]
  },
  {
   "cell_type": "code",
   "execution_count": 3,
   "id": "2993a0b2-3069-44f3-8100-4ca67497f60f",
   "metadata": {},
   "outputs": [
    {
     "name": "stdout",
     "output_type": "stream",
     "text": [
      "the critical value from z distribution table is: 1.6448536269514722\n"
     ]
    }
   ],
   "source": [
    "# 3) P-value or critical value(p): \n",
    "from scipy import stats\n",
    "alpha =0.05\n",
    "z_critical = stats.norm.ppf(1 - alpha) #value in theory is obtained from z-distribution table\n",
    "print(\"the critical value from z distribution table is:\", z_critical)"
   ]
  },
  {
   "cell_type": "code",
   "execution_count": null,
   "id": "0b997c7c-9aec-4b70-9f1d-4b6986057c12",
   "metadata": {},
   "outputs": [],
   "source": [
    "\"\"\"\n",
    "Since the calculated test statistic (t = 2.0) is greater than the critical value (Z = 1.645), we reject the null hypothesis.\n",
    "\n",
    "4) conclusion: \n",
    "Based on the analysis, there is strong evidence to support the restaurant owners' claim that the weekly operating costs are higher than the model suggests.\n",
    "\n",
    "\"\"\""
   ]
  }
 ],
 "metadata": {
  "kernelspec": {
   "display_name": "Python 3 (ipykernel)",
   "language": "python",
   "name": "python3"
  },
  "language_info": {
   "codemirror_mode": {
    "name": "ipython",
    "version": 3
   },
   "file_extension": ".py",
   "mimetype": "text/x-python",
   "name": "python",
   "nbconvert_exporter": "python",
   "pygments_lexer": "ipython3",
   "version": "3.11.7"
  }
 },
 "nbformat": 4,
 "nbformat_minor": 5
}
