{
 "cells": [
  {
   "cell_type": "code",
   "execution_count": 8,
   "id": "c54c445b-d752-422d-bb62-6de1e57c256c",
   "metadata": {},
   "outputs": [
    {
     "name": "stdout",
     "output_type": "stream",
     "text": [
      "number is not a prime number\n"
     ]
    }
   ],
   "source": [
    "#1) to check whether a given number is a prime number\n",
    "\n",
    "num = 10;\n",
    "if num>1:\n",
    "    for i in range(2, (num//2)+1):# we check from a range between 2 and n/2\n",
    "#the reason for n//2 is because divisor more than n/2 will always give the quotient as 1 which is not a prime number        \n",
    "        if (num%i)==0:\n",
    "            print('number is not a prime number')\n",
    "            break\n",
    "    else:\n",
    "        print('num is a prime number')\n",
    "else:\n",
    "    print('1 is not a prime number') #default print statement if the guven number is 1"
   ]
  },
  {
   "cell_type": "code",
   "execution_count": 9,
   "id": "10de0f8e-9143-4339-9364-fcfe681f06e6",
   "metadata": {},
   "outputs": [
    {
     "name": "stdout",
     "output_type": "stream",
     "text": [
      "the 2 numbers are: 74 14\n"
     ]
    },
    {
     "name": "stdin",
     "output_type": "stream",
     "text": [
      "what is the product? 500\n"
     ]
    },
    {
     "name": "stdout",
     "output_type": "stream",
     "text": [
      "you are wrong, the product is: 1036\n"
     ]
    }
   ],
   "source": [
    "#2) Product of Random Numbers\n",
    "\n",
    "import random #import random module for genrating random numbers\n",
    "num1= random.randint(2,100) #generating random numbers between 2 and 100\n",
    "num2=random.randint(2,100)\n",
    "print('the 2 numbers are:',num1,num2)\n",
    "product=int(input('what is the product?')) #user input\n",
    "if product==num1*num2: #checks whether the input is equal to the actual product\n",
    "    print('that is correct!')\n",
    "else:\n",
    "    print('you are wrong, the product is:', num1*num2)"
   ]
  },
  {
   "cell_type": "code",
   "execution_count": 13,
   "id": "a4e8f9cc-30a1-4272-9c78-4d20077053c5",
   "metadata": {},
   "outputs": [
    {
     "name": "stdin",
     "output_type": "stream",
     "text": [
      "Do you want 'odd' or 'even'?  even\n"
     ]
    },
    {
     "name": "stdout",
     "output_type": "stream",
     "text": [
      "100\n",
      "102\n",
      "104\n",
      "106\n",
      "108\n",
      "110\n",
      "112\n",
      "114\n",
      "116\n",
      "118\n",
      "120\n",
      "122\n",
      "124\n",
      "126\n",
      "128\n",
      "130\n",
      "132\n",
      "134\n",
      "136\n",
      "138\n",
      "140\n",
      "142\n",
      "144\n",
      "146\n",
      "148\n",
      "150\n",
      "152\n",
      "154\n",
      "156\n",
      "158\n",
      "160\n",
      "162\n",
      "164\n",
      "166\n",
      "168\n",
      "170\n",
      "172\n",
      "174\n",
      "176\n",
      "178\n",
      "180\n",
      "182\n",
      "184\n",
      "186\n",
      "188\n",
      "190\n",
      "192\n",
      "194\n",
      "196\n",
      "198\n",
      "200\n"
     ]
    }
   ],
   "source": [
    "#3) Squares of Even/Odd Numbers\n",
    "\n",
    "num = input(\"Do you want 'odd' or 'even'? \").lower()  #case-insensitive input\n",
    "\n",
    "if num == 'even':\n",
    "  for i in range(100, 201):  #Loop through 100 to 200 \n",
    "    if i % 2 == 0: #all even numbers when divided by 2 have a remainder 0\n",
    "      print(i)\n",
    "else:\n",
    "  for i in range(101, 201):  #Loop through 101 to 200 \n",
    "    if i % 2 != 0:\n",
    "      print(i)"
   ]
  },
  {
   "cell_type": "code",
   "execution_count": 20,
   "id": "a97b65e3-fa61-4266-bde3-99f0ca9a13af",
   "metadata": {},
   "outputs": [
    {
     "name": "stdin",
     "output_type": "stream",
     "text": [
      "enter the text my name is\n"
     ]
    },
    {
     "name": "stdout",
     "output_type": "stream",
     "text": [
      "The word count is: 3\n"
     ]
    }
   ],
   "source": [
    "#4) Word Counter\n",
    "\n",
    "text=str(input(\"enter the text\"))\n",
    "word_count=0 #counter\n",
    "for char in text:\n",
    "    if char==' ':\n",
    "        word_count += 1 #increments everytime it encounters a space\n",
    "print(\"The word count is:\", word_count+1)    "
   ]
  },
  {
   "cell_type": "code",
   "execution_count": 25,
   "id": "e60623e0-44d6-4bda-8abd-b62dd4291a5c",
   "metadata": {},
   "outputs": [
    {
     "name": "stdin",
     "output_type": "stream",
     "text": [
      "enter the word racecar\n"
     ]
    },
    {
     "name": "stdout",
     "output_type": "stream",
     "text": [
      "it is a palindrome\n"
     ]
    }
   ],
   "source": [
    "#5) Check for Palindrome\n",
    "\n",
    "text=str(input(\"enter the word\"))\n",
    "reversed_text = text[::-1] # reversing the input by using the python string slicing\n",
    "if text==reversed_text: #checking if the reversed text is same as the original text\n",
    "    print(\"it is a palindrome\")\n",
    "else:\n",
    "    print(\"it is not a palindrome\")    "
   ]
  },
  {
   "cell_type": "code",
   "execution_count": null,
   "id": "6fb27356-b874-4a9b-9972-506de5fb5821",
   "metadata": {},
   "outputs": [],
   "source": []
  }
 ],
 "metadata": {
  "kernelspec": {
   "display_name": "Python 3 (ipykernel)",
   "language": "python",
   "name": "python3"
  },
  "language_info": {
   "codemirror_mode": {
    "name": "ipython",
    "version": 3
   },
   "file_extension": ".py",
   "mimetype": "text/x-python",
   "name": "python",
   "nbconvert_exporter": "python",
   "pygments_lexer": "ipython3",
   "version": "3.11.7"
  }
 },
 "nbformat": 4,
 "nbformat_minor": 5
}
